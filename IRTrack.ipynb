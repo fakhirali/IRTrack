{
 "cells": [
  {
   "cell_type": "code",
   "execution_count": 1,
   "id": "49385ccd",
   "metadata": {},
   "outputs": [],
   "source": [
    "import cv2\n",
    "import matplotlib.pyplot as plt\n",
    "import numpy as np\n",
    "from IPython.display import clear_output"
   ]
  },
  {
   "cell_type": "code",
   "execution_count": 2,
   "id": "79996ea7",
   "metadata": {},
   "outputs": [],
   "source": [
    "im = cv2.imread('minarepak.jpg')"
   ]
  },
  {
   "cell_type": "code",
   "execution_count": 3,
   "id": "cebeda6e",
   "metadata": {},
   "outputs": [],
   "source": [
    "zoom_factor = 2"
   ]
  },
  {
   "cell_type": "code",
   "execution_count": 4,
   "id": "2cccfd6c",
   "metadata": {},
   "outputs": [],
   "source": [
    "zoomed_im = cv2.resize(im, None, fx=zoom_factor, fy=zoom_factor)  \n",
    "center = (len(zoomed_im)//2, len(zoomed_im[0])//2)\n",
    "size = (900,1440)\n",
    "cropped_im = zoomed_im[center[0]-size[0]//2: center[0]+size[0]//2, center[1]-size[1]//2: center[1]+size[1]//2]"
   ]
  },
  {
   "cell_type": "code",
   "execution_count": 11,
   "id": "89d52cd4",
   "metadata": {},
   "outputs": [
    {
     "ename": "error",
     "evalue": "OpenCV(4.7.0) /io/opencv/modules/highgui/src/window.cpp:971: error: (-215:Assertion failed) size.width>0 && size.height>0 in function 'imshow'\n",
     "output_type": "error",
     "traceback": [
      "\u001b[0;31m---------------------------------------------------------------------------\u001b[0m",
      "\u001b[0;31merror\u001b[0m                                     Traceback (most recent call last)",
      "\u001b[0;32m<ipython-input-11-e235a2a7ef5f>\u001b[0m in \u001b[0;36m<module>\u001b[0;34m\u001b[0m\n\u001b[1;32m     50\u001b[0m \u001b[0;34m\u001b[0m\u001b[0m\n\u001b[1;32m     51\u001b[0m     \u001b[0mclear_output\u001b[0m\u001b[0;34m(\u001b[0m\u001b[0mwait\u001b[0m\u001b[0;34m=\u001b[0m\u001b[0;32mTrue\u001b[0m\u001b[0;34m)\u001b[0m\u001b[0;34m\u001b[0m\u001b[0;34m\u001b[0m\u001b[0m\n\u001b[0;32m---> 52\u001b[0;31m     \u001b[0mcv2\u001b[0m\u001b[0;34m.\u001b[0m\u001b[0mimshow\u001b[0m\u001b[0;34m(\u001b[0m\u001b[0;34m'window'\u001b[0m\u001b[0;34m,\u001b[0m \u001b[0mcropped_im\u001b[0m\u001b[0;34m)\u001b[0m\u001b[0;34m\u001b[0m\u001b[0;34m\u001b[0m\u001b[0m\n\u001b[0m\u001b[1;32m     53\u001b[0m     \u001b[0mcv2\u001b[0m\u001b[0;34m.\u001b[0m\u001b[0mimshow\u001b[0m\u001b[0;34m(\u001b[0m\u001b[0;34m'ir'\u001b[0m\u001b[0;34m,\u001b[0m \u001b[0mthresh\u001b[0m\u001b[0;34m)\u001b[0m\u001b[0;34m\u001b[0m\u001b[0;34m\u001b[0m\u001b[0m\n\u001b[1;32m     54\u001b[0m \u001b[0;34m\u001b[0m\u001b[0m\n",
      "\u001b[0;31merror\u001b[0m: OpenCV(4.7.0) /io/opencv/modules/highgui/src/window.cpp:971: error: (-215:Assertion failed) size.width>0 && size.height>0 in function 'imshow'\n"
     ]
    }
   ],
   "source": [
    "\n",
    "vid = cv2.VideoCapture(0)\n",
    "dist = 0\n",
    "x_delta = 0\n",
    "dist_buffer = []\n",
    "x_delta_buffer = []\n",
    "buffer_len = 5\n",
    "while(True):\n",
    "    \n",
    "    # Capture the video frame\n",
    "    # by frame\n",
    "    ret, frame = vid.read()\n",
    "    gray = cv2.cvtColor(frame, cv2.COLOR_BGR2GRAY)\n",
    "    thresh = cv2.threshold(gray,100,255, cv2.THRESH_BINARY)[1]\n",
    "    cnts = cv2.findContours(thresh, cv2.RETR_EXTERNAL, cv2.CHAIN_APPROX_SIMPLE)\n",
    "    cnts = cnts[0] if len(cnts) == 2 else cnts[1]\n",
    "#     print(cnts)\n",
    "    \n",
    "    \n",
    "    for c in cnts:\n",
    "        cv2.drawContours(frame, [c], -1, (36, 255, 12), 2)\n",
    "#     print(len(cnts))\n",
    "    if len(cnts) == 2:\n",
    "        x1, y1 = cnts[0][0][0][0],cnts[0][0][0][1]\n",
    "        x2, y2 = cnts[1][0][0][0],cnts[1][0][0][1]\n",
    "        dist = np.sqrt((x1-x2)**2 + (y1-y2)**2)\n",
    "        center_x = (x1 + x2)//2\n",
    "        x_delta = center_x - len(frame[0])//2\n",
    "        dist_buffer.append(dist)\n",
    "        if len(dist_buffer) >=buffer_len:\n",
    "            dist = sum(dist_buffer[-buffer_len:]) / buffer_len\n",
    "            dist_buffer = dist_buffer[-buffer_len:]\n",
    "            \n",
    "            \n",
    "        x_delta_buffer.append(x_delta)\n",
    "        if len(x_delta_buffer) >=buffer_len:\n",
    "            x_delta = sum(x_delta_buffer[-buffer_len:]) // buffer_len\n",
    "\n",
    "            x_delta_buffer = x_delta_buffer[-buffer_len:]\n",
    "        \n",
    "    if dist != 0:\n",
    "        zoom_factor = 2 - dist/300\n",
    "    else:\n",
    "        zoom_factor = 5\n",
    "    \n",
    "    print(x_delta)\n",
    "    zoomed_im = cv2.resize(im, None, fx=zoom_factor, fy=zoom_factor)  \n",
    "    center = (len(zoomed_im)//2, len(zoomed_im[0])//2 + x_delta)\n",
    "    size = (900,1440)\n",
    "    cropped_im = zoomed_im[center[0]-size[0]//2: center[0]+size[0]//2, center[1]-size[1]//2: center[1]+size[1]//2]\n",
    "\n",
    "    clear_output(wait=True)\n",
    "    cv2.imshow('window', cropped_im)\n",
    "    cv2.imshow('ir', thresh)\n",
    "    \n",
    "    if cv2.waitKey(1) & 0xFF == ord('q'):\n",
    "        break\n",
    "vid.release()\n",
    "# Destroy all the windows\n",
    "cv2.destroyAllWindows()"
   ]
  },
  {
   "cell_type": "code",
   "execution_count": 12,
   "id": "d2f69e58",
   "metadata": {},
   "outputs": [],
   "source": [
    "vid.release()\n",
    "# Destroy all the windows\n",
    "cv2.destroyAllWindows()"
   ]
  },
  {
   "cell_type": "code",
   "execution_count": 52,
   "id": "9bd0cf1e",
   "metadata": {},
   "outputs": [
    {
     "data": {
      "text/plain": [
       "[<matplotlib.lines.Line2D at 0x7f231d94e730>]"
      ]
     },
     "execution_count": 52,
     "metadata": {},
     "output_type": "execute_result"
    },
    {
     "data": {
      "image/png": "[encoded data removed]",
      "text/plain": [
       "<Figure size 384x288 with 1 Axes>"
      ]
     },
     "metadata": {
      "needs_background": "light"
     },
     "output_type": "display_data"
    }
   ],
   "source": [
    "plt.matshow(frame)\n",
    "idx = 0\n",
    "c = cnts[0]\n",
    "plt.plot(c[idx][0][0],c[idx][0][1] , 'ro')"
   ]
  },
  {
   "cell_type": "code",
   "execution_count": 105,
   "id": "3da48c6f",
   "metadata": {},
   "outputs": [
    {
     "name": "stdout",
     "output_type": "stream",
     "text": [
      "0\n",
      "0\n",
      "0\n",
      "0\n",
      "0\n",
      "0\n",
      "0\n",
      "0\n",
      "0\n",
      "0\n",
      "0\n",
      "0.13963963963963963\n",
      "0.16143497757847533\n",
      "0.18018018018018017\n",
      "0.19282511210762332\n",
      "0.2072072072072072\n",
      "0.22624434389140272\n",
      "0.24545454545454545\n",
      "0.2579185520361991\n",
      "0.2727272727272727\n",
      "0.2785388127853881\n",
      "0.25688073394495414\n",
      "0.2119815668202765\n",
      "0.14814814814814814\n",
      "0.07272727272727272\n",
      "0.0136986301369863\n",
      "-0.04484304932735426\n",
      "-0.08597285067873303\n",
      "-0.12272727272727273\n",
      "-0.1643835616438356\n",
      "-0.19907407407407407\n",
      "-0.24299065420560748\n",
      "-0.2796208530805687\n",
      "-0.32057416267942584\n",
      "-0.35609756097560974\n",
      "-0.38349514563106796\n",
      "-0.4068627450980392\n",
      "-0.42786069651741293\n",
      "-0.43842364532019706\n",
      "-0.4504950495049505\n",
      "-0.4626865671641791\n",
      "-0.47738693467336685\n",
      "-0.49743589743589745\n",
      "-0.5233160621761658\n",
      "-0.5555555555555556\n",
      "-0.5882352941176471\n",
      "-0.6129032258064516\n",
      "-0.6378378378378379\n",
      "-0.6648351648351648\n",
      "-0.6833333333333333\n",
      "-0.6927374301675978\n",
      "-0.6983240223463687\n",
      "-0.6966292134831461\n",
      "-0.6519337016574586\n",
      "-0.5891891891891892\n",
      "-0.5161290322580645\n",
      "-0.42328042328042326\n",
      "-0.3248730964467005\n",
      "-0.23529411764705882\n",
      "-0.14832535885167464\n",
      "-0.07042253521126761\n",
      "0.004672897196261682\n",
      "0.07476635514018691\n",
      "0.14150943396226415\n",
      "0.21153846153846154\n",
      "0.27941176470588236\n",
      "0.3415841584158416\n",
      "0.4175257731958763\n",
      "0.47150259067357514\n",
      "0.47150259067357514\n",
      "0.47150259067357514\n",
      "0.47150259067357514\n",
      "0.47150259067357514\n",
      "0.47150259067357514\n",
      "0.47150259067357514\n",
      "0.47150259067357514\n",
      "0.47150259067357514\n",
      "0.47150259067357514\n",
      "0.47150259067357514\n",
      "0.47150259067357514\n",
      "0.23880597014925373\n",
      "0.15048543689320387\n",
      "0.0794392523364486\n"
     ]
    }
   ],
   "source": [
    "import pygame\n",
    "import random\n",
    "\n",
    "\n",
    "WIDTH = 360*2\n",
    "HEIGHT = 480*2\n",
    "FPS = 30\n",
    "\n",
    "# Define Colors \n",
    "WHITE = (255, 255, 255)\n",
    "BLACK = (0, 0, 0)\n",
    "RED = (255, 0, 0)\n",
    "GREEN = (0, 255, 0)\n",
    "BLUE = (0, 0, 255)\n",
    "\n",
    "## initialize pygame and create window\n",
    "pygame.init()\n",
    "pygame.mixer.init()  ## For sound\n",
    "screen = pygame.display.set_mode((WIDTH, HEIGHT))\n",
    "pygame.display.set_caption(\"<Your game>\")\n",
    "clock = pygame.time.Clock()     ## For syncing the FPS\n",
    "\n",
    "\n",
    "\n",
    "vid = cv2.VideoCapture(0)\n",
    "\n",
    "\n",
    "dist = 60\n",
    "grad = 0\n",
    "running = True\n",
    "while running:\n",
    "\n",
    "    #1 Process input/events\n",
    "    clock.tick(FPS)     ## will make the loop run at the same speed all the time\n",
    "    for event in pygame.event.get():        # gets all the events which have occured till now and keeps tab of them.\n",
    "        ## listening for the the X button at the top\n",
    "        if event.type == pygame.QUIT:\n",
    "            running = False\n",
    "\n",
    "\n",
    "    #3 Draw/render\n",
    "    screen.fill(BLACK)\n",
    "    \n",
    "    \n",
    "    ret, frame = vid.read()\n",
    "    gray = cv2.cvtColor(frame, cv2.COLOR_BGR2GRAY)\n",
    "    thresh = cv2.threshold(gray,200,255, cv2.THRESH_BINARY)[1]\n",
    "    cnts = cv2.findContours(thresh, cv2.RETR_EXTERNAL, cv2.CHAIN_APPROX_SIMPLE)\n",
    "    cnts = cnts[0] if len(cnts) == 2 else cnts[1]\n",
    "#     print(cnts)\n",
    "    \n",
    "    \n",
    "#     for c in cnts:\n",
    "#         cv2.drawContours(frame, [c], -1, (36, 255, 12), 2)\n",
    "#     print(len(cnts))\n",
    "    if len(cnts) == 2:\n",
    "        x1, y1 = cnts[0][0][0][0],cnts[0][0][0][1]\n",
    "        x2, y2 = cnts[1][0][0][0],cnts[1][0][0][1]\n",
    "        dist = np.sqrt((x1-x2)**2 + (y1-y2)**2)\n",
    "        grad = ((y2-y1) / (x2-x1))\n",
    "    cv2.imshow('frame', frame)\n",
    "    if cv2.waitKey(1) & 0xFF == ord('q'):\n",
    "        break\n",
    "    \n",
    "    print(grad)\n",
    "    \n",
    "    size = WIDTH - 60 - dist*2\n",
    "    pygame.draw.rect(screen, (255,0,0), pygame.Rect(WIDTH//2 - size//2, HEIGHT//2 - size//2, size, size))\n",
    "    screen.blit(pygame.transform.rotate(screen, 180*grad),(0,0))\n",
    "\n",
    "    \n",
    "    pygame.display.flip()       \n",
    "\n",
    "pygame.quit()\n",
    "vid.release()\n",
    "# Destroy all the windows\n",
    "cv2.destroyAllWindows()"
   ]
  },
  {
   "cell_type": "code",
   "execution_count": 101,
   "id": "21dab2f6",
   "metadata": {},
   "outputs": [],
   "source": [
    "pygame.quit()\n",
    "vid.release()\n",
    "# Destroy all the windows\n",
    "cv2.destroyAllWindows()"
   ]
  },
  {
   "cell_type": "code",
   "execution_count": 34,
   "id": "81cdf31a",
   "metadata": {},
   "outputs": [
    {
     "name": "stdout",
     "output_type": "stream",
     "text": [
      "[221  54]\n"
     ]
    }
   ],
   "source": [
    "print(c[2][0])"
   ]
  },
  {
   "cell_type": "code",
   "execution_count": 27,
   "id": "625a9f4f",
   "metadata": {},
   "outputs": [
    {
     "data": {
      "text/plain": [
       "array([[[0, 1, 0],\n",
       "        [0, 1, 0],\n",
       "        [0, 1, 0],\n",
       "        ...,\n",
       "        [0, 1, 0],\n",
       "        [0, 1, 0],\n",
       "        [0, 1, 0]],\n",
       "\n",
       "       [[0, 0, 2],\n",
       "        [0, 0, 2],\n",
       "        [0, 1, 0],\n",
       "        ...,\n",
       "        [0, 1, 0],\n",
       "        [0, 1, 0],\n",
       "        [0, 1, 0]]], dtype=uint8)"
      ]
     },
     "execution_count": 27,
     "metadata": {},
     "output_type": "execute_result"
    }
   ],
   "source": [
    "frame[c[1][0]]"
   ]
  },
  {
   "cell_type": "code",
   "execution_count": null,
   "id": "b03e3e82",
   "metadata": {},
   "outputs": [],
   "source": []
  }
 ],
 "metadata": {
  "kernelspec": {
   "display_name": "Python 3",
   "language": "python",
   "name": "python3"
  },
  "language_info": {
   "codemirror_mode": {
    "name": "ipython",
    "version": 3
   },
   "file_extension": ".py",
   "mimetype": "text/x-python",
   "name": "python",
   "nbconvert_exporter": "python",
   "pygments_lexer": "ipython3",
   "version": "3.8.10"
  }
 },
 "nbformat": 4,
 "nbformat_minor": 5
}
